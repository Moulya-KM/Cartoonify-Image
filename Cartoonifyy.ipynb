{
  "nbformat": 4,
  "nbformat_minor": 0,
  "metadata": {
    "colab": {
      "name": "Cartoonifyy.ipynb",
      "provenance": [],
      "authorship_tag": "ABX9TyMX5PeBkivOAqPnFnSgecFh",
      "include_colab_link": true
    },
    "kernelspec": {
      "name": "python3",
      "display_name": "Python 3"
    },
    "language_info": {
      "name": "python"
    }
  },
  "cells": [
    {
      "cell_type": "markdown",
      "metadata": {
        "id": "view-in-github",
        "colab_type": "text"
      },
      "source": [
        "<a href=\"https://colab.research.google.com/github/Moulya-KM/Cartoonify-Image/blob/main/Cartoonifyy.ipynb\" target=\"_parent\"><img src=\"https://colab.research.google.com/assets/colab-badge.svg\" alt=\"Open In Colab\"/></a>"
      ]
    },
    {
      "cell_type": "code",
      "execution_count": 2,
      "metadata": {
        "id": "yCUr-TOe1bx8"
      },
      "outputs": [],
      "source": [
        "!pip install streamlit --quiet"
      ]
    },
    {
      "cell_type": "code",
      "source": [
        "import cv2"
      ],
      "metadata": {
        "id": "2ciG2Y1_1qeT"
      },
      "execution_count": 3,
      "outputs": []
    },
    {
      "cell_type": "code",
      "source": [
        "!sudo apt install tesseract-ocr\n",
        "!pip install pytesseract --quiet"
      ],
      "metadata": {
        "colab": {
          "base_uri": "https://localhost:8080/"
        },
        "id": "8W5vfog812Da",
        "outputId": "a8e17a8e-15a9-4a2f-fadd-437b9fc66535"
      },
      "execution_count": 5,
      "outputs": [
        {
          "output_type": "stream",
          "name": "stdout",
          "text": [
            "Reading package lists... Done\n",
            "Building dependency tree       \n",
            "Reading state information... Done\n",
            "tesseract-ocr is already the newest version (4.00~git2288-10f4998a-2).\n",
            "The following package was automatically installed and is no longer required:\n",
            "  libnvidia-common-460\n",
            "Use 'sudo apt autoremove' to remove it.\n",
            "0 upgraded, 0 newly installed, 0 to remove and 42 not upgraded.\n"
          ]
        }
      ]
    },
    {
      "cell_type": "code",
      "source": [
        ""
      ],
      "metadata": {
        "id": "n7EarV6_2J_E"
      },
      "execution_count": null,
      "outputs": []
    },
    {
      "cell_type": "code",
      "source": [
        ""
      ],
      "metadata": {
        "id": "ELYhH-oX2Le2"
      },
      "execution_count": null,
      "outputs": []
    },
    {
      "cell_type": "code",
      "source": [
        "%%writefile app.py\n",
        "import numpy as np\n",
        "import streamlit as st\n",
        "import pytesseract\n",
        "from PIL import Image #python Imaging library, to open image, streamlit does not support cv2 directly\n",
        "\n",
        "import cv2\n",
        "#import numpy as np\n",
        "import matplotlib.pyplot as plt\n",
        "\n",
        "\n",
        "def edge_mask(img,line_size,blur_value):\n",
        "\n",
        "  gray=cv2.cvtColor(img,cv2.COLOR_RGB2GRAY)\n",
        "  gray_blur = cv2.medianBlur(gray,blur_value)\n",
        "\n",
        "  edges=cv2.adaptiveThreshold(gray_blur,255, cv2.ADAPTIVE_THRESH_MEAN_C,cv2.THRESH_BINARY,line_size,blur_value)\n",
        "\n",
        "  return edges\n",
        "\n",
        "def color_quantization(img , k ):\n",
        "\n",
        "    #transform img\n",
        "    data=np.float32(img).reshape((-1,3))\n",
        "\n",
        "    #Determine citeria                                             iteration,accuracy\n",
        "    criteria = (cv2.TERM_CRITERIA_EPS+ cv2.TERM_CRITERIA_MAX_ITER, 20 , 0.001)\n",
        "\n",
        "    #implementing k-means (clustering)\n",
        "    ret , label , center = cv2.kmeans(data , k,None,criteria,10,cv2.KMEANS_RANDOM_CENTERS)\n",
        "    \n",
        "    center = np.uint8(center)\n",
        "\n",
        "    result = center[label.flatten()]\n",
        "    result = result.reshape(img.shape)\n",
        "\n",
        "    return result\n",
        "    \n",
        "\n",
        "\n",
        "def cartoon(blurred,edges):\n",
        "  c = cv2.bitwise_and(blurred,blurred,mask=edges)\n",
        "  return c\n",
        "\n",
        "def cartoonization(img):\n",
        "  line_size=5\n",
        "\n",
        "  blur_value = st.sidebar.slider('Sharpness of image (the lower the value, the sharper it is)', 1, 99, 25, step=2)\n",
        "  k = st.sidebar.slider('Tune the color averaging effects (low: only similar colors will be smoothed, high: dissimilar color will be smoothed)', 2, 100,9,step=2)\n",
        "  d = st.sidebar.slider('Tune the smoothness level of the image (the higher the value, the smoother the image)', 3, 99, 3, step=2)\n",
        "\n",
        "  edges=edge_mask(img,line_size,blur_value)\n",
        "  img_quantize=color_quantization(img , k )\n",
        "  blurred = cv2.bilateralFilter(img_quantize,d,sigmaColor=200,sigmaSpace=200)\n",
        "  cc=cartoon(blurred,edges)\n",
        "  return cc\n",
        "\n",
        "##################\n",
        "\n",
        "st.set_option('deprecation.showfileUploaderEncoding',False) #to warning ignore\n",
        "st.title(\"Cartoonify Images\")  #print title and text\n",
        "st.text(\"Upload the Image\")\n",
        "\n",
        "uploaded_file=st.sidebar.file_uploader(\"Choose an image...\",type=['jpg','png','jpeg'])\n",
        "if uploaded_file is not None:\n",
        "  img=Image.open(uploaded_file)  #reads the image, similar cv2.imread\n",
        "  image=np.array(img)\n",
        "  st.image(image,caption=\"Uploaded Image\",use_column_width=True) #displays the image in its actual size \n",
        "  st.write(\"\")  #print blank space\n",
        "\n",
        "  \n",
        "\n",
        "  st.write(\"Cartoon image\")   \n",
        "  cartoon=cartoonization(image)\n",
        "  st.image(cartoon,caption=\"Cartooned Image\",use_column_width=True)"
      ],
      "metadata": {
        "colab": {
          "base_uri": "https://localhost:8080/"
        },
        "id": "RLtPM0xp15iO",
        "outputId": "7781321d-6066-4ab5-d933-01882c159610"
      },
      "execution_count": 7,
      "outputs": [
        {
          "output_type": "stream",
          "name": "stdout",
          "text": [
            "Overwriting app.py\n"
          ]
        }
      ]
    },
    {
      "cell_type": "code",
      "source": [
        "!streamlit run app.py & npx localtunnel --port 8501"
      ],
      "metadata": {
        "colab": {
          "base_uri": "https://localhost:8080/"
        },
        "id": "f94hJGKj2VW9",
        "outputId": "b3247708-537d-460e-ee63-f8fce1c940d8"
      },
      "execution_count": null,
      "outputs": [
        {
          "output_type": "stream",
          "name": "stdout",
          "text": [
            "2022-05-27 14:09:02.312 INFO    numexpr.utils: NumExpr defaulting to 2 threads.\n",
            "\u001b[0m\n",
            "\u001b[34m\u001b[1m  You can now view your Streamlit app in your browser.\u001b[0m\n",
            "\u001b[0m\n",
            "\u001b[34m  Network URL: \u001b[0m\u001b[1mhttp://172.28.0.2:8501\u001b[0m\n",
            "\u001b[34m  External URL: \u001b[0m\u001b[1mhttp://34.83.120.0:8501\u001b[0m\n",
            "\u001b[0m\n",
            "\u001b[K\u001b[?25hnpx: installed 22 in 3.909s\n",
            "your url is: https://gold-carrots-win-34-83-120-0.loca.lt\n"
          ]
        }
      ]
    }
  ]
}